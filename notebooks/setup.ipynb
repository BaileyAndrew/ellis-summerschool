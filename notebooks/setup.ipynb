{
 "cells": [
  {
   "cell_type": "markdown",
   "metadata": {},
   "source": [
    "# Tutorial Setup\n",
    "\n",
    "This notebook should be run once, as early as possible.  It will download all Python packages the attendees need, as well as the data.  If they have not downloaded the data before, it will take a couple minutes.  After downloading the data, even if they leave Codespaces it will still be stored in Codespaces, so this only needs to be run once.\n",
    "\n",
    "After successfully running this notebook, one can move on to `experiment.ipynb`, in which attendees will be able to analyze the dataset with the algorithms talked about in the meeting."
   ]
  },
  {
   "cell_type": "code",
   "execution_count": 2,
   "metadata": {},
   "outputs": [
    {
     "name": "stdout",
     "output_type": "stream",
     "text": [
      "Requirement already satisfied: ipywidgets==8.1.2 in /usr/local/python/3.12.1/lib/python3.12/site-packages (from -r ../requirements.txt (line 1)) (8.1.2)\n",
      "Requirement already satisfied: matplotlib==3.8.4 in /usr/local/python/3.12.1/lib/python3.12/site-packages (from -r ../requirements.txt (line 2)) (3.8.4)\n",
      "Requirement already satisfied: pandas==2.2.2 in /usr/local/python/3.12.1/lib/python3.12/site-packages (from -r ../requirements.txt (line 3)) (2.2.2)\n",
      "Requirement already satisfied: tqdm==4.66.4 in /usr/local/python/3.12.1/lib/python3.12/site-packages (from -r ../requirements.txt (line 4)) (4.66.4)\n",
      "Requirement already satisfied: scanpy==1.10 in /usr/local/python/3.12.1/lib/python3.12/site-packages (from -r ../requirements.txt (line 5)) (1.10.0)\n",
      "Requirement already satisfied: GmGM==0.5.6 in /usr/local/python/3.12.1/lib/python3.12/site-packages (from -r ../requirements.txt (line 6)) (0.5.6)\n",
      "Requirement already satisfied: python-igraph in /usr/local/python/3.12.1/lib/python3.12/site-packages (from -r ../requirements.txt (line 7)) (0.11.8)\n",
      "Requirement already satisfied: leidenalg in /usr/local/python/3.12.1/lib/python3.12/site-packages (from -r ../requirements.txt (line 8)) (0.10.2)\n",
      "Requirement already satisfied: scikit-learn in /home/codespace/.local/lib/python3.12/site-packages (from -r ../requirements.txt (line 9)) (1.6.1)\n",
      "Requirement already satisfied: pybiomart in /usr/local/python/3.12.1/lib/python3.12/site-packages (from -r ../requirements.txt (line 10)) (0.2.0)\n",
      "Requirement already satisfied: gprofiler-official in /usr/local/python/3.12.1/lib/python3.12/site-packages (from -r ../requirements.txt (line 11)) (1.0.0)\n",
      "Requirement already satisfied: comm>=0.1.3 in /home/codespace/.local/lib/python3.12/site-packages (from ipywidgets==8.1.2->-r ../requirements.txt (line 1)) (0.2.2)\n",
      "Requirement already satisfied: ipython>=6.1.0 in /home/codespace/.local/lib/python3.12/site-packages (from ipywidgets==8.1.2->-r ../requirements.txt (line 1)) (9.0.2)\n",
      "Requirement already satisfied: traitlets>=4.3.1 in /home/codespace/.local/lib/python3.12/site-packages (from ipywidgets==8.1.2->-r ../requirements.txt (line 1)) (5.14.3)\n",
      "Requirement already satisfied: widgetsnbextension~=4.0.10 in /usr/local/python/3.12.1/lib/python3.12/site-packages (from ipywidgets==8.1.2->-r ../requirements.txt (line 1)) (4.0.14)\n",
      "Requirement already satisfied: jupyterlab-widgets~=3.0.10 in /usr/local/python/3.12.1/lib/python3.12/site-packages (from ipywidgets==8.1.2->-r ../requirements.txt (line 1)) (3.0.15)\n",
      "Requirement already satisfied: contourpy>=1.0.1 in /home/codespace/.local/lib/python3.12/site-packages (from matplotlib==3.8.4->-r ../requirements.txt (line 2)) (1.3.1)\n",
      "Requirement already satisfied: cycler>=0.10 in /home/codespace/.local/lib/python3.12/site-packages (from matplotlib==3.8.4->-r ../requirements.txt (line 2)) (0.12.1)\n",
      "Requirement already satisfied: fonttools>=4.22.0 in /home/codespace/.local/lib/python3.12/site-packages (from matplotlib==3.8.4->-r ../requirements.txt (line 2)) (4.56.0)\n",
      "Requirement already satisfied: kiwisolver>=1.3.1 in /home/codespace/.local/lib/python3.12/site-packages (from matplotlib==3.8.4->-r ../requirements.txt (line 2)) (1.4.8)\n",
      "Requirement already satisfied: numpy>=1.21 in /home/codespace/.local/lib/python3.12/site-packages (from matplotlib==3.8.4->-r ../requirements.txt (line 2)) (2.2.4)\n",
      "Requirement already satisfied: packaging>=20.0 in /home/codespace/.local/lib/python3.12/site-packages (from matplotlib==3.8.4->-r ../requirements.txt (line 2)) (24.2)\n",
      "Requirement already satisfied: pillow>=8 in /home/codespace/.local/lib/python3.12/site-packages (from matplotlib==3.8.4->-r ../requirements.txt (line 2)) (11.1.0)\n",
      "Requirement already satisfied: pyparsing>=2.3.1 in /home/codespace/.local/lib/python3.12/site-packages (from matplotlib==3.8.4->-r ../requirements.txt (line 2)) (3.2.1)\n",
      "Requirement already satisfied: python-dateutil>=2.7 in /home/codespace/.local/lib/python3.12/site-packages (from matplotlib==3.8.4->-r ../requirements.txt (line 2)) (2.9.0.post0)\n",
      "Requirement already satisfied: pytz>=2020.1 in /home/codespace/.local/lib/python3.12/site-packages (from pandas==2.2.2->-r ../requirements.txt (line 3)) (2025.1)\n",
      "Requirement already satisfied: tzdata>=2022.7 in /home/codespace/.local/lib/python3.12/site-packages (from pandas==2.2.2->-r ../requirements.txt (line 3)) (2025.1)\n",
      "Requirement already satisfied: anndata>=0.8 in /usr/local/python/3.12.1/lib/python3.12/site-packages (from scanpy==1.10->-r ../requirements.txt (line 5)) (0.11.4)\n",
      "Requirement already satisfied: h5py>=3.1 in /usr/local/python/3.12.1/lib/python3.12/site-packages (from scanpy==1.10->-r ../requirements.txt (line 5)) (3.13.0)\n",
      "Requirement already satisfied: joblib in /home/codespace/.local/lib/python3.12/site-packages (from scanpy==1.10->-r ../requirements.txt (line 5)) (1.4.2)\n",
      "Requirement already satisfied: legacy-api-wrap>=1.4 in /usr/local/python/3.12.1/lib/python3.12/site-packages (from scanpy==1.10->-r ../requirements.txt (line 5)) (1.4.1)\n",
      "Requirement already satisfied: natsort in /usr/local/python/3.12.1/lib/python3.12/site-packages (from scanpy==1.10->-r ../requirements.txt (line 5)) (8.4.0)\n",
      "Requirement already satisfied: networkx>=2.7 in /home/codespace/.local/lib/python3.12/site-packages (from scanpy==1.10->-r ../requirements.txt (line 5)) (3.3)\n",
      "Requirement already satisfied: numba>=0.56 in /usr/local/python/3.12.1/lib/python3.12/site-packages (from scanpy==1.10->-r ../requirements.txt (line 5)) (0.61.2)\n",
      "Requirement already satisfied: patsy in /usr/local/python/3.12.1/lib/python3.12/site-packages (from scanpy==1.10->-r ../requirements.txt (line 5)) (1.0.1)\n",
      "Requirement already satisfied: pynndescent>=0.5 in /usr/local/python/3.12.1/lib/python3.12/site-packages (from scanpy==1.10->-r ../requirements.txt (line 5)) (0.5.13)\n",
      "Requirement already satisfied: scipy>=1.8 in /home/codespace/.local/lib/python3.12/site-packages (from scanpy==1.10->-r ../requirements.txt (line 5)) (1.15.2)\n",
      "Requirement already satisfied: seaborn>=0.13 in /home/codespace/.local/lib/python3.12/site-packages (from scanpy==1.10->-r ../requirements.txt (line 5)) (0.13.2)\n",
      "Requirement already satisfied: session-info in /usr/local/python/3.12.1/lib/python3.12/site-packages (from scanpy==1.10->-r ../requirements.txt (line 5)) (1.0.1)\n",
      "Requirement already satisfied: statsmodels>=0.13 in /usr/local/python/3.12.1/lib/python3.12/site-packages (from scanpy==1.10->-r ../requirements.txt (line 5)) (0.14.4)\n",
      "Requirement already satisfied: umap-learn!=0.5.0,>=0.5 in /usr/local/python/3.12.1/lib/python3.12/site-packages (from scanpy==1.10->-r ../requirements.txt (line 5)) (0.5.7)\n",
      "Requirement already satisfied: dask>=2022.03 in /usr/local/python/3.12.1/lib/python3.12/site-packages (from GmGM==0.5.6->-r ../requirements.txt (line 6)) (2025.5.1)\n",
      "Requirement already satisfied: igraph==0.11.8 in /usr/local/python/3.12.1/lib/python3.12/site-packages (from python-igraph->-r ../requirements.txt (line 7)) (0.11.8)\n",
      "Requirement already satisfied: texttable>=1.6.2 in /usr/local/python/3.12.1/lib/python3.12/site-packages (from igraph==0.11.8->python-igraph->-r ../requirements.txt (line 7)) (1.7.0)\n",
      "Requirement already satisfied: threadpoolctl>=3.1.0 in /home/codespace/.local/lib/python3.12/site-packages (from scikit-learn->-r ../requirements.txt (line 9)) (3.6.0)\n",
      "Requirement already satisfied: future in /usr/local/python/3.12.1/lib/python3.12/site-packages (from pybiomart->-r ../requirements.txt (line 10)) (1.0.0)\n",
      "Requirement already satisfied: requests in /home/codespace/.local/lib/python3.12/site-packages (from pybiomart->-r ../requirements.txt (line 10)) (2.32.3)\n",
      "Requirement already satisfied: requests-cache in /usr/local/python/3.12.1/lib/python3.12/site-packages (from pybiomart->-r ../requirements.txt (line 10)) (1.2.1)\n",
      "Requirement already satisfied: array-api-compat!=1.5,>1.4 in /usr/local/python/3.12.1/lib/python3.12/site-packages (from anndata>=0.8->scanpy==1.10->-r ../requirements.txt (line 5)) (1.12.0)\n",
      "Requirement already satisfied: click>=8.1 in /usr/local/python/3.12.1/lib/python3.12/site-packages (from dask>=2022.03->GmGM==0.5.6->-r ../requirements.txt (line 6)) (8.2.1)\n",
      "Requirement already satisfied: cloudpickle>=3.0.0 in /usr/local/python/3.12.1/lib/python3.12/site-packages (from dask>=2022.03->GmGM==0.5.6->-r ../requirements.txt (line 6)) (3.1.1)\n",
      "Requirement already satisfied: fsspec>=2021.09.0 in /home/codespace/.local/lib/python3.12/site-packages (from dask>=2022.03->GmGM==0.5.6->-r ../requirements.txt (line 6)) (2024.6.1)\n",
      "Requirement already satisfied: partd>=1.4.0 in /usr/local/python/3.12.1/lib/python3.12/site-packages (from dask>=2022.03->GmGM==0.5.6->-r ../requirements.txt (line 6)) (1.4.2)\n",
      "Requirement already satisfied: pyyaml>=5.3.1 in /home/codespace/.local/lib/python3.12/site-packages (from dask>=2022.03->GmGM==0.5.6->-r ../requirements.txt (line 6)) (6.0.2)\n",
      "Requirement already satisfied: toolz>=0.10.0 in /usr/local/python/3.12.1/lib/python3.12/site-packages (from dask>=2022.03->GmGM==0.5.6->-r ../requirements.txt (line 6)) (1.0.0)\n",
      "Requirement already satisfied: decorator in /home/codespace/.local/lib/python3.12/site-packages (from ipython>=6.1.0->ipywidgets==8.1.2->-r ../requirements.txt (line 1)) (5.2.1)\n",
      "Requirement already satisfied: ipython-pygments-lexers in /home/codespace/.local/lib/python3.12/site-packages (from ipython>=6.1.0->ipywidgets==8.1.2->-r ../requirements.txt (line 1)) (1.1.1)\n",
      "Requirement already satisfied: jedi>=0.16 in /home/codespace/.local/lib/python3.12/site-packages (from ipython>=6.1.0->ipywidgets==8.1.2->-r ../requirements.txt (line 1)) (0.19.2)\n",
      "Requirement already satisfied: matplotlib-inline in /home/codespace/.local/lib/python3.12/site-packages (from ipython>=6.1.0->ipywidgets==8.1.2->-r ../requirements.txt (line 1)) (0.1.7)\n",
      "Requirement already satisfied: pexpect>4.3 in /home/codespace/.local/lib/python3.12/site-packages (from ipython>=6.1.0->ipywidgets==8.1.2->-r ../requirements.txt (line 1)) (4.9.0)\n",
      "Requirement already satisfied: prompt_toolkit<3.1.0,>=3.0.41 in /home/codespace/.local/lib/python3.12/site-packages (from ipython>=6.1.0->ipywidgets==8.1.2->-r ../requirements.txt (line 1)) (3.0.50)\n",
      "Requirement already satisfied: pygments>=2.4.0 in /home/codespace/.local/lib/python3.12/site-packages (from ipython>=6.1.0->ipywidgets==8.1.2->-r ../requirements.txt (line 1)) (2.19.1)\n",
      "Requirement already satisfied: stack_data in /home/codespace/.local/lib/python3.12/site-packages (from ipython>=6.1.0->ipywidgets==8.1.2->-r ../requirements.txt (line 1)) (0.6.3)\n",
      "Requirement already satisfied: llvmlite<0.45,>=0.44.0dev0 in /usr/local/python/3.12.1/lib/python3.12/site-packages (from numba>=0.56->scanpy==1.10->-r ../requirements.txt (line 5)) (0.44.0)\n",
      "Requirement already satisfied: six>=1.5 in /home/codespace/.local/lib/python3.12/site-packages (from python-dateutil>=2.7->matplotlib==3.8.4->-r ../requirements.txt (line 2)) (1.17.0)\n",
      "Requirement already satisfied: charset-normalizer<4,>=2 in /home/codespace/.local/lib/python3.12/site-packages (from requests->pybiomart->-r ../requirements.txt (line 10)) (3.4.1)\n",
      "Requirement already satisfied: idna<4,>=2.5 in /home/codespace/.local/lib/python3.12/site-packages (from requests->pybiomart->-r ../requirements.txt (line 10)) (3.10)\n",
      "Requirement already satisfied: urllib3<3,>=1.21.1 in /home/codespace/.local/lib/python3.12/site-packages (from requests->pybiomart->-r ../requirements.txt (line 10)) (2.3.0)\n",
      "Requirement already satisfied: certifi>=2017.4.17 in /home/codespace/.local/lib/python3.12/site-packages (from requests->pybiomart->-r ../requirements.txt (line 10)) (2025.1.31)\n",
      "Requirement already satisfied: attrs>=21.2 in /home/codespace/.local/lib/python3.12/site-packages (from requests-cache->pybiomart->-r ../requirements.txt (line 10)) (25.3.0)\n",
      "Requirement already satisfied: cattrs>=22.2 in /usr/local/python/3.12.1/lib/python3.12/site-packages (from requests-cache->pybiomart->-r ../requirements.txt (line 10)) (24.1.3)\n",
      "Requirement already satisfied: platformdirs>=2.5 in /home/codespace/.local/lib/python3.12/site-packages (from requests-cache->pybiomart->-r ../requirements.txt (line 10)) (4.3.6)\n",
      "Requirement already satisfied: url-normalize>=1.4 in /usr/local/python/3.12.1/lib/python3.12/site-packages (from requests-cache->pybiomart->-r ../requirements.txt (line 10)) (2.2.1)\n",
      "Requirement already satisfied: stdlib_list in /usr/local/python/3.12.1/lib/python3.12/site-packages (from session-info->scanpy==1.10->-r ../requirements.txt (line 5)) (0.11.1)\n",
      "Requirement already satisfied: parso<0.9.0,>=0.8.4 in /home/codespace/.local/lib/python3.12/site-packages (from jedi>=0.16->ipython>=6.1.0->ipywidgets==8.1.2->-r ../requirements.txt (line 1)) (0.8.4)\n",
      "Requirement already satisfied: locket in /usr/local/python/3.12.1/lib/python3.12/site-packages (from partd>=1.4.0->dask>=2022.03->GmGM==0.5.6->-r ../requirements.txt (line 6)) (1.0.0)\n",
      "Requirement already satisfied: ptyprocess>=0.5 in /home/codespace/.local/lib/python3.12/site-packages (from pexpect>4.3->ipython>=6.1.0->ipywidgets==8.1.2->-r ../requirements.txt (line 1)) (0.7.0)\n",
      "Requirement already satisfied: wcwidth in /home/codespace/.local/lib/python3.12/site-packages (from prompt_toolkit<3.1.0,>=3.0.41->ipython>=6.1.0->ipywidgets==8.1.2->-r ../requirements.txt (line 1)) (0.2.13)\n",
      "Requirement already satisfied: executing>=1.2.0 in /home/codespace/.local/lib/python3.12/site-packages (from stack_data->ipython>=6.1.0->ipywidgets==8.1.2->-r ../requirements.txt (line 1)) (2.2.0)\n",
      "Requirement already satisfied: asttokens>=2.1.0 in /home/codespace/.local/lib/python3.12/site-packages (from stack_data->ipython>=6.1.0->ipywidgets==8.1.2->-r ../requirements.txt (line 1)) (3.0.0)\n",
      "Requirement already satisfied: pure-eval in /home/codespace/.local/lib/python3.12/site-packages (from stack_data->ipython>=6.1.0->ipywidgets==8.1.2->-r ../requirements.txt (line 1)) (0.2.3)\n",
      "\n",
      "\u001b[1m[\u001b[0m\u001b[34;49mnotice\u001b[0m\u001b[1;39;49m]\u001b[0m\u001b[39;49m A new release of pip is available: \u001b[0m\u001b[31;49m25.0.1\u001b[0m\u001b[39;49m -> \u001b[0m\u001b[32;49m25.1.1\u001b[0m\n",
      "\u001b[1m[\u001b[0m\u001b[34;49mnotice\u001b[0m\u001b[1;39;49m]\u001b[0m\u001b[39;49m To update, run: \u001b[0m\u001b[32;49mpython -m pip install --upgrade pip\u001b[0m\n",
      "Note: you may need to restart the kernel to use updated packages.\n"
     ]
    }
   ],
   "source": [
    "# Install all required packages\n",
    "%pip install -r ../requirements.txt"
   ]
  },
  {
   "cell_type": "code",
   "execution_count": 3,
   "metadata": {},
   "outputs": [
    {
     "name": "stderr",
     "output_type": "stream",
     "text": [
      "/usr/local/python/3.12.1/lib/python3.12/site-packages/anndata/utils.py:434: FutureWarning: Importing read_csv from `anndata` is deprecated. Import anndata.io.read_csv instead.\n",
      "  warnings.warn(msg, FutureWarning)\n",
      "/usr/local/python/3.12.1/lib/python3.12/site-packages/anndata/utils.py:434: FutureWarning: Importing read_excel from `anndata` is deprecated. Import anndata.io.read_excel instead.\n",
      "  warnings.warn(msg, FutureWarning)\n",
      "/usr/local/python/3.12.1/lib/python3.12/site-packages/anndata/utils.py:434: FutureWarning: Importing read_hdf from `anndata` is deprecated. Import anndata.io.read_hdf instead.\n",
      "  warnings.warn(msg, FutureWarning)\n",
      "/usr/local/python/3.12.1/lib/python3.12/site-packages/anndata/utils.py:434: FutureWarning: Importing read_loom from `anndata` is deprecated. Import anndata.io.read_loom instead.\n",
      "  warnings.warn(msg, FutureWarning)\n",
      "/usr/local/python/3.12.1/lib/python3.12/site-packages/anndata/utils.py:434: FutureWarning: Importing read_mtx from `anndata` is deprecated. Import anndata.io.read_mtx instead.\n",
      "  warnings.warn(msg, FutureWarning)\n",
      "/usr/local/python/3.12.1/lib/python3.12/site-packages/anndata/utils.py:434: FutureWarning: Importing read_text from `anndata` is deprecated. Import anndata.io.read_text instead.\n",
      "  warnings.warn(msg, FutureWarning)\n",
      "/usr/local/python/3.12.1/lib/python3.12/site-packages/anndata/utils.py:434: FutureWarning: Importing read_umi_tools from `anndata` is deprecated. Import anndata.io.read_umi_tools instead.\n",
      "  warnings.warn(msg, FutureWarning)\n"
     ]
    }
   ],
   "source": [
    "import scanpy as sc\n",
    "from pathlib import Path"
   ]
  },
  {
   "cell_type": "markdown",
   "metadata": {},
   "source": [
    "We'll use scanpy's \"built-in\" datasets for this workshop.  The next code cell should make sure they are all downloaded."
   ]
  },
  {
   "cell_type": "code",
   "execution_count": 4,
   "metadata": {},
   "outputs": [
    {
     "data": {
      "text/plain": [
       "AnnData object with n_obs × n_vars = 640 × 11\n",
       "    obs: 'blobs'"
      ]
     },
     "execution_count": 4,
     "metadata": {},
     "output_type": "execute_result"
    }
   ],
   "source": [
    "sc.datasets.blobs()"
   ]
  },
  {
   "cell_type": "markdown",
   "metadata": {},
   "source": [
    "We'll use this dataset:\n",
    "    https://www.ebi.ac.uk/gxa/sc/experiments/E-GEOD-130148/results/cell-plots\n",
    "\n",
    "From paper:\n",
    "    https://europepmc.org/abstract/MED/31209336\n",
    "\n",
    "TODO: Describe"
   ]
  },
  {
   "cell_type": "code",
   "execution_count": null,
   "metadata": {},
   "outputs": [
    {
     "data": {
      "application/vnd.jupyter.widget-view+json": {
       "model_id": "b8d33b613cd04db3aea69eb40a4e2812",
       "version_major": 2,
       "version_minor": 0
      },
      "text/plain": [
       "  0%|          | 0.00/3.19M [00:00<?, ?B/s]"
      ]
     },
     "metadata": {},
     "output_type": "display_data"
    },
    {
     "data": {
      "application/vnd.jupyter.widget-view+json": {
       "model_id": "65528e26811a4d589d2619b80923e4f7",
       "version_major": 2,
       "version_minor": 0
      },
      "text/plain": [
       "0.00B [00:00, ?B/s]"
      ]
     },
     "metadata": {},
     "output_type": "display_data"
    },
    {
     "data": {
      "text/plain": [
       "AnnData object with n_obs × n_vars = 7754 × 23037\n",
       "    obs: 'Sample Characteristic[organism]', 'Sample Characteristic Ontology Term[organism]', 'Sample Characteristic[strain]', 'Sample Characteristic Ontology Term[strain]', 'Sample Characteristic[sex]', 'Sample Characteristic Ontology Term[sex]', 'Sample Characteristic[age]', 'Sample Characteristic Ontology Term[age]', 'Sample Characteristic[developmental stage]', 'Sample Characteristic Ontology Term[developmental stage]', 'Sample Characteristic[organism part]', 'Sample Characteristic Ontology Term[organism part]', 'Sample Characteristic[genotype]', 'Sample Characteristic Ontology Term[genotype]', 'Sample Characteristic[cell type]', 'Sample Characteristic Ontology Term[cell type]', 'Sample Characteristic[immunophenotype]', 'Sample Characteristic Ontology Term[immunophenotype]', 'Factor Value[genotype]', 'Factor Value Ontology Term[genotype]'"
      ]
     },
     "execution_count": 7,
     "metadata": {},
     "output_type": "execute_result"
    }
   ],
   "source": [
    "# This establishes the directory that the data will be saved to\n",
    "sc._settings.ScanpyConfig.datasetdir = Path('../data/')\n",
    "adata = sc.datasets.ebi_expression_atlas(\n",
    "    accession='E-GEOD-130148',\n",
    ")\n",
    "adata"
   ]
  }
 ],
 "metadata": {
  "kernelspec": {
   "display_name": "Python 3",
   "language": "python",
   "name": "python3"
  },
  "language_info": {
   "codemirror_mode": {
    "name": "ipython",
    "version": 3
   },
   "file_extension": ".py",
   "mimetype": "text/x-python",
   "name": "python",
   "nbconvert_exporter": "python",
   "pygments_lexer": "ipython3",
   "version": "3.12.1"
  }
 },
 "nbformat": 4,
 "nbformat_minor": 2
}
