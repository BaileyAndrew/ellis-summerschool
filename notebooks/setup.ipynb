{
 "cells": [
  {
   "cell_type": "markdown",
   "metadata": {},
   "source": [
    "# Tutorial Setup\n",
    "\n",
    "This notebook should be run once, as early as possible.  It will download all Python packages the attendees need, as well as the data.  If they have not downloaded the data before, it will take a couple minutes.  After downloading the data, even if they leave Codespaces it will still be stored in Codespaces, so this only needs to be run once.\n",
    "\n",
    "After successfully running this notebook, one can move on to `experiment.ipynb`, in which attendees will be able to analyze the dataset with the algorithms talked about in the meeting."
   ]
  },
  {
   "cell_type": "code",
   "execution_count": 1,
   "metadata": {},
   "outputs": [
    {
     "name": "stdout",
     "output_type": "stream",
     "text": [
      "Requirement already satisfied: ipywidgets==8.1.2 in /usr/local/python/3.10.13/lib/python3.10/site-packages (from -r ../requirements.txt (line 1)) (8.1.2)\n",
      "Requirement already satisfied: matplotlib==3.8.4 in /home/codespace/.local/lib/python3.10/site-packages (from -r ../requirements.txt (line 2)) (3.8.4)\n",
      "Requirement already satisfied: pandas==2.2.2 in /home/codespace/.local/lib/python3.10/site-packages (from -r ../requirements.txt (line 3)) (2.2.2)\n",
      "Requirement already satisfied: tqdm==4.66.4 in /usr/local/python/3.10.13/lib/python3.10/site-packages (from -r ../requirements.txt (line 4)) (4.66.4)\n",
      "Requirement already satisfied: scanpy==1.10 in /usr/local/python/3.10.13/lib/python3.10/site-packages (from -r ../requirements.txt (line 5)) (1.10.0)\n",
      "Requirement already satisfied: GmGM==0.4 in /usr/local/python/3.10.13/lib/python3.10/site-packages (from -r ../requirements.txt (line 6)) (0.4.0)\n",
      "Requirement already satisfied: python-igraph in /usr/local/python/3.10.13/lib/python3.10/site-packages (from -r ../requirements.txt (line 7)) (0.11.5)\n",
      "Requirement already satisfied: leidenalg in /usr/local/python/3.10.13/lib/python3.10/site-packages (from -r ../requirements.txt (line 8)) (0.10.2)\n",
      "Requirement already satisfied: scikit-learn in /home/codespace/.local/lib/python3.10/site-packages (from -r ../requirements.txt (line 9)) (1.4.2)\n",
      "Requirement already satisfied: pybiomart in /usr/local/python/3.10.13/lib/python3.10/site-packages (from -r ../requirements.txt (line 10)) (0.2.0)\n",
      "Requirement already satisfied: gprofiler-official in /usr/local/python/3.10.13/lib/python3.10/site-packages (from -r ../requirements.txt (line 11)) (1.0.0)\n",
      "Requirement already satisfied: comm>=0.1.3 in /home/codespace/.local/lib/python3.10/site-packages (from ipywidgets==8.1.2->-r ../requirements.txt (line 1)) (0.2.2)\n",
      "Requirement already satisfied: ipython>=6.1.0 in /home/codespace/.local/lib/python3.10/site-packages (from ipywidgets==8.1.2->-r ../requirements.txt (line 1)) (8.24.0)\n",
      "Requirement already satisfied: traitlets>=4.3.1 in /home/codespace/.local/lib/python3.10/site-packages (from ipywidgets==8.1.2->-r ../requirements.txt (line 1)) (5.14.3)\n",
      "Requirement already satisfied: widgetsnbextension~=4.0.10 in /usr/local/python/3.10.13/lib/python3.10/site-packages (from ipywidgets==8.1.2->-r ../requirements.txt (line 1)) (4.0.11)\n",
      "Requirement already satisfied: jupyterlab-widgets~=3.0.10 in /usr/local/python/3.10.13/lib/python3.10/site-packages (from ipywidgets==8.1.2->-r ../requirements.txt (line 1)) (3.0.11)\n",
      "Requirement already satisfied: contourpy>=1.0.1 in /home/codespace/.local/lib/python3.10/site-packages (from matplotlib==3.8.4->-r ../requirements.txt (line 2)) (1.2.1)\n",
      "Requirement already satisfied: cycler>=0.10 in /home/codespace/.local/lib/python3.10/site-packages (from matplotlib==3.8.4->-r ../requirements.txt (line 2)) (0.12.1)\n",
      "Requirement already satisfied: fonttools>=4.22.0 in /home/codespace/.local/lib/python3.10/site-packages (from matplotlib==3.8.4->-r ../requirements.txt (line 2)) (4.51.0)\n",
      "Requirement already satisfied: kiwisolver>=1.3.1 in /home/codespace/.local/lib/python3.10/site-packages (from matplotlib==3.8.4->-r ../requirements.txt (line 2)) (1.4.5)\n",
      "Requirement already satisfied: numpy>=1.21 in /home/codespace/.local/lib/python3.10/site-packages (from matplotlib==3.8.4->-r ../requirements.txt (line 2)) (1.26.4)\n",
      "Requirement already satisfied: packaging>=20.0 in /home/codespace/.local/lib/python3.10/site-packages (from matplotlib==3.8.4->-r ../requirements.txt (line 2)) (24.0)\n",
      "Requirement already satisfied: pillow>=8 in /home/codespace/.local/lib/python3.10/site-packages (from matplotlib==3.8.4->-r ../requirements.txt (line 2)) (10.3.0)\n",
      "Requirement already satisfied: pyparsing>=2.3.1 in /home/codespace/.local/lib/python3.10/site-packages (from matplotlib==3.8.4->-r ../requirements.txt (line 2)) (3.1.2)\n",
      "Requirement already satisfied: python-dateutil>=2.7 in /home/codespace/.local/lib/python3.10/site-packages (from matplotlib==3.8.4->-r ../requirements.txt (line 2)) (2.9.0.post0)\n",
      "Requirement already satisfied: pytz>=2020.1 in /home/codespace/.local/lib/python3.10/site-packages (from pandas==2.2.2->-r ../requirements.txt (line 3)) (2024.1)\n",
      "Requirement already satisfied: tzdata>=2022.7 in /home/codespace/.local/lib/python3.10/site-packages (from pandas==2.2.2->-r ../requirements.txt (line 3)) (2024.1)\n",
      "Requirement already satisfied: anndata>=0.8 in /usr/local/python/3.10.13/lib/python3.10/site-packages (from scanpy==1.10->-r ../requirements.txt (line 5)) (0.10.7)\n",
      "Requirement already satisfied: h5py>=3.1 in /usr/local/python/3.10.13/lib/python3.10/site-packages (from scanpy==1.10->-r ../requirements.txt (line 5)) (3.11.0)\n",
      "Requirement already satisfied: joblib in /home/codespace/.local/lib/python3.10/site-packages (from scanpy==1.10->-r ../requirements.txt (line 5)) (1.4.2)\n",
      "Requirement already satisfied: legacy-api-wrap>=1.4 in /usr/local/python/3.10.13/lib/python3.10/site-packages (from scanpy==1.10->-r ../requirements.txt (line 5)) (1.4)\n",
      "Requirement already satisfied: natsort in /usr/local/python/3.10.13/lib/python3.10/site-packages (from scanpy==1.10->-r ../requirements.txt (line 5)) (8.4.0)\n",
      "Requirement already satisfied: networkx>=2.7 in /home/codespace/.local/lib/python3.10/site-packages (from scanpy==1.10->-r ../requirements.txt (line 5)) (3.3)\n",
      "Requirement already satisfied: numba>=0.56 in /usr/local/python/3.10.13/lib/python3.10/site-packages (from scanpy==1.10->-r ../requirements.txt (line 5)) (0.59.1)\n",
      "Requirement already satisfied: patsy in /usr/local/python/3.10.13/lib/python3.10/site-packages (from scanpy==1.10->-r ../requirements.txt (line 5)) (0.5.6)\n",
      "Requirement already satisfied: pynndescent>=0.5 in /usr/local/python/3.10.13/lib/python3.10/site-packages (from scanpy==1.10->-r ../requirements.txt (line 5)) (0.5.12)\n",
      "Requirement already satisfied: scipy>=1.8 in /home/codespace/.local/lib/python3.10/site-packages (from scanpy==1.10->-r ../requirements.txt (line 5)) (1.13.0)\n",
      "Requirement already satisfied: seaborn>=0.13 in /home/codespace/.local/lib/python3.10/site-packages (from scanpy==1.10->-r ../requirements.txt (line 5)) (0.13.2)\n",
      "Requirement already satisfied: session-info in /usr/local/python/3.10.13/lib/python3.10/site-packages (from scanpy==1.10->-r ../requirements.txt (line 5)) (1.0.0)\n",
      "Requirement already satisfied: statsmodels>=0.13 in /usr/local/python/3.10.13/lib/python3.10/site-packages (from scanpy==1.10->-r ../requirements.txt (line 5)) (0.14.2)\n",
      "Requirement already satisfied: umap-learn!=0.5.0,>=0.5 in /usr/local/python/3.10.13/lib/python3.10/site-packages (from scanpy==1.10->-r ../requirements.txt (line 5)) (0.5.6)\n",
      "Requirement already satisfied: dask>=2022.03 in /usr/local/python/3.10.13/lib/python3.10/site-packages (from GmGM==0.4->-r ../requirements.txt (line 6)) (2024.5.2)\n",
      "Requirement already satisfied: igraph==0.11.5 in /usr/local/python/3.10.13/lib/python3.10/site-packages (from python-igraph->-r ../requirements.txt (line 7)) (0.11.5)\n",
      "Requirement already satisfied: texttable>=1.6.2 in /usr/local/python/3.10.13/lib/python3.10/site-packages (from igraph==0.11.5->python-igraph->-r ../requirements.txt (line 7)) (1.7.0)\n",
      "Requirement already satisfied: threadpoolctl>=2.0.0 in /home/codespace/.local/lib/python3.10/site-packages (from scikit-learn->-r ../requirements.txt (line 9)) (3.5.0)\n",
      "Requirement already satisfied: future in /usr/local/python/3.10.13/lib/python3.10/site-packages (from pybiomart->-r ../requirements.txt (line 10)) (1.0.0)\n",
      "Requirement already satisfied: requests in /home/codespace/.local/lib/python3.10/site-packages (from pybiomart->-r ../requirements.txt (line 10)) (2.31.0)\n",
      "Requirement already satisfied: requests-cache in /usr/local/python/3.10.13/lib/python3.10/site-packages (from pybiomart->-r ../requirements.txt (line 10)) (1.2.0)\n",
      "Requirement already satisfied: array-api-compat!=1.5,>1.4 in /usr/local/python/3.10.13/lib/python3.10/site-packages (from anndata>=0.8->scanpy==1.10->-r ../requirements.txt (line 5)) (1.7.1)\n",
      "Requirement already satisfied: exceptiongroup in /home/codespace/.local/lib/python3.10/site-packages (from anndata>=0.8->scanpy==1.10->-r ../requirements.txt (line 5)) (1.2.1)\n",
      "Requirement already satisfied: click>=8.1 in /usr/local/python/3.10.13/lib/python3.10/site-packages (from dask>=2022.03->GmGM==0.4->-r ../requirements.txt (line 6)) (8.1.7)\n",
      "Requirement already satisfied: cloudpickle>=1.5.0 in /usr/local/python/3.10.13/lib/python3.10/site-packages (from dask>=2022.03->GmGM==0.4->-r ../requirements.txt (line 6)) (3.0.0)\n",
      "Requirement already satisfied: fsspec>=2021.09.0 in /home/codespace/.local/lib/python3.10/site-packages (from dask>=2022.03->GmGM==0.4->-r ../requirements.txt (line 6)) (2024.3.1)\n",
      "Requirement already satisfied: partd>=1.2.0 in /usr/local/python/3.10.13/lib/python3.10/site-packages (from dask>=2022.03->GmGM==0.4->-r ../requirements.txt (line 6)) (1.4.2)\n",
      "Requirement already satisfied: pyyaml>=5.3.1 in /home/codespace/.local/lib/python3.10/site-packages (from dask>=2022.03->GmGM==0.4->-r ../requirements.txt (line 6)) (6.0.1)\n",
      "Requirement already satisfied: toolz>=0.10.0 in /usr/local/python/3.10.13/lib/python3.10/site-packages (from dask>=2022.03->GmGM==0.4->-r ../requirements.txt (line 6)) (0.12.1)\n",
      "Requirement already satisfied: importlib-metadata>=4.13.0 in /usr/local/python/3.10.13/lib/python3.10/site-packages (from dask>=2022.03->GmGM==0.4->-r ../requirements.txt (line 6)) (7.1.0)\n",
      "Requirement already satisfied: decorator in /home/codespace/.local/lib/python3.10/site-packages (from ipython>=6.1.0->ipywidgets==8.1.2->-r ../requirements.txt (line 1)) (5.1.1)\n",
      "Requirement already satisfied: jedi>=0.16 in /home/codespace/.local/lib/python3.10/site-packages (from ipython>=6.1.0->ipywidgets==8.1.2->-r ../requirements.txt (line 1)) (0.19.1)\n",
      "Requirement already satisfied: matplotlib-inline in /home/codespace/.local/lib/python3.10/site-packages (from ipython>=6.1.0->ipywidgets==8.1.2->-r ../requirements.txt (line 1)) (0.1.7)\n",
      "Requirement already satisfied: prompt-toolkit<3.1.0,>=3.0.41 in /home/codespace/.local/lib/python3.10/site-packages (from ipython>=6.1.0->ipywidgets==8.1.2->-r ../requirements.txt (line 1)) (3.0.43)\n",
      "Requirement already satisfied: pygments>=2.4.0 in /home/codespace/.local/lib/python3.10/site-packages (from ipython>=6.1.0->ipywidgets==8.1.2->-r ../requirements.txt (line 1)) (2.18.0)\n",
      "Requirement already satisfied: stack-data in /home/codespace/.local/lib/python3.10/site-packages (from ipython>=6.1.0->ipywidgets==8.1.2->-r ../requirements.txt (line 1)) (0.6.3)\n",
      "Requirement already satisfied: typing-extensions>=4.6 in /home/codespace/.local/lib/python3.10/site-packages (from ipython>=6.1.0->ipywidgets==8.1.2->-r ../requirements.txt (line 1)) (4.11.0)\n",
      "Requirement already satisfied: pexpect>4.3 in /home/codespace/.local/lib/python3.10/site-packages (from ipython>=6.1.0->ipywidgets==8.1.2->-r ../requirements.txt (line 1)) (4.9.0)\n",
      "Requirement already satisfied: llvmlite<0.43,>=0.42.0dev0 in /usr/local/python/3.10.13/lib/python3.10/site-packages (from numba>=0.56->scanpy==1.10->-r ../requirements.txt (line 5)) (0.42.0)\n",
      "Requirement already satisfied: six>=1.5 in /home/codespace/.local/lib/python3.10/site-packages (from python-dateutil>=2.7->matplotlib==3.8.4->-r ../requirements.txt (line 2)) (1.16.0)\n",
      "Requirement already satisfied: charset-normalizer<4,>=2 in /home/codespace/.local/lib/python3.10/site-packages (from requests->pybiomart->-r ../requirements.txt (line 10)) (3.3.2)\n",
      "Requirement already satisfied: idna<4,>=2.5 in /home/codespace/.local/lib/python3.10/site-packages (from requests->pybiomart->-r ../requirements.txt (line 10)) (3.7)\n",
      "Requirement already satisfied: urllib3<3,>=1.21.1 in /usr/local/python/3.10.13/lib/python3.10/site-packages (from requests->pybiomart->-r ../requirements.txt (line 10)) (2.0.7)\n",
      "Requirement already satisfied: certifi>=2017.4.17 in /home/codespace/.local/lib/python3.10/site-packages (from requests->pybiomart->-r ../requirements.txt (line 10)) (2024.2.2)\n",
      "Requirement already satisfied: attrs>=21.2 in /home/codespace/.local/lib/python3.10/site-packages (from requests-cache->pybiomart->-r ../requirements.txt (line 10)) (23.2.0)\n",
      "Requirement already satisfied: cattrs>=22.2 in /usr/local/python/3.10.13/lib/python3.10/site-packages (from requests-cache->pybiomart->-r ../requirements.txt (line 10)) (23.2.3)\n",
      "Requirement already satisfied: platformdirs>=2.5 in /home/codespace/.local/lib/python3.10/site-packages (from requests-cache->pybiomart->-r ../requirements.txt (line 10)) (4.2.1)\n",
      "Requirement already satisfied: url-normalize>=1.4 in /usr/local/python/3.10.13/lib/python3.10/site-packages (from requests-cache->pybiomart->-r ../requirements.txt (line 10)) (1.4.3)\n",
      "Requirement already satisfied: stdlib-list in /usr/local/python/3.10.13/lib/python3.10/site-packages (from session-info->scanpy==1.10->-r ../requirements.txt (line 5)) (0.10.0)\n",
      "Requirement already satisfied: zipp>=0.5 in /usr/local/python/3.10.13/lib/python3.10/site-packages (from importlib-metadata>=4.13.0->dask>=2022.03->GmGM==0.4->-r ../requirements.txt (line 6)) (3.19.1)\n",
      "Requirement already satisfied: parso<0.9.0,>=0.8.3 in /home/codespace/.local/lib/python3.10/site-packages (from jedi>=0.16->ipython>=6.1.0->ipywidgets==8.1.2->-r ../requirements.txt (line 1)) (0.8.4)\n",
      "Requirement already satisfied: locket in /usr/local/python/3.10.13/lib/python3.10/site-packages (from partd>=1.2.0->dask>=2022.03->GmGM==0.4->-r ../requirements.txt (line 6)) (1.0.0)\n",
      "Requirement already satisfied: ptyprocess>=0.5 in /home/codespace/.local/lib/python3.10/site-packages (from pexpect>4.3->ipython>=6.1.0->ipywidgets==8.1.2->-r ../requirements.txt (line 1)) (0.7.0)\n",
      "Requirement already satisfied: wcwidth in /home/codespace/.local/lib/python3.10/site-packages (from prompt-toolkit<3.1.0,>=3.0.41->ipython>=6.1.0->ipywidgets==8.1.2->-r ../requirements.txt (line 1)) (0.2.13)\n",
      "Requirement already satisfied: executing>=1.2.0 in /home/codespace/.local/lib/python3.10/site-packages (from stack-data->ipython>=6.1.0->ipywidgets==8.1.2->-r ../requirements.txt (line 1)) (2.0.1)\n",
      "Requirement already satisfied: asttokens>=2.1.0 in /home/codespace/.local/lib/python3.10/site-packages (from stack-data->ipython>=6.1.0->ipywidgets==8.1.2->-r ../requirements.txt (line 1)) (2.4.1)\n",
      "Requirement already satisfied: pure-eval in /home/codespace/.local/lib/python3.10/site-packages (from stack-data->ipython>=6.1.0->ipywidgets==8.1.2->-r ../requirements.txt (line 1)) (0.2.2)\n",
      "Note: you may need to restart the kernel to use updated packages.\n"
     ]
    }
   ],
   "source": [
    "# Install all required packages\n",
    "%pip install -r ../requirements.txt"
   ]
  },
  {
   "cell_type": "code",
   "execution_count": 2,
   "metadata": {},
   "outputs": [],
   "source": [
    "import scanpy as sc\n",
    "from pathlib import Path"
   ]
  },
  {
   "cell_type": "markdown",
   "metadata": {},
   "source": [
    "We'll use this dataset:\n",
    "    [Spatio-temporal immune zonation of the human kidney](https://www.ebi.ac.uk/gxa/sc/experiments/E-HCAD-10/results/tsne), with [an associated paper](https://pubmed.ncbi.nlm.nih.gov/31604275/).\n",
    "\n",
    "It has ~30,000 cells, which is about as large as we can reasonably expect people to be able to download during a workshop.  Downloading it will take a few minutes, but once its downloaded it will "
   ]
  },
  {
   "cell_type": "code",
   "execution_count": 3,
   "metadata": {},
   "outputs": [
    {
     "data": {
      "text/plain": [
       "AnnData object with n_obs × n_vars = 31711 × 26385\n",
       "    obs: 'Sample Characteristic[organism]', 'Sample Characteristic Ontology Term[organism]', 'Sample Characteristic[individual]', 'Sample Characteristic Ontology Term[individual]', 'Sample Characteristic[sex]', 'Sample Characteristic Ontology Term[sex]', 'Sample Characteristic[gestational age]', 'Sample Characteristic Ontology Term[gestational age]', 'Sample Characteristic[developmental stage]', 'Sample Characteristic Ontology Term[developmental stage]', 'Sample Characteristic[organism part]', 'Sample Characteristic Ontology Term[organism part]', 'Sample Characteristic[immunophenotype]', 'Sample Characteristic Ontology Term[immunophenotype]', 'Sample Characteristic[disease]', 'Sample Characteristic Ontology Term[disease]', 'Sample Characteristic[organism status]', 'Sample Characteristic Ontology Term[organism status]', 'Sample Characteristic[cause of death]', 'Sample Characteristic Ontology Term[cause of death]', 'Factor Value[individual]', 'Factor Value Ontology Term[individual]', 'Factor Value[gestational age]', 'Factor Value Ontology Term[gestational age]', 'Factor Value[immunophenotype]', 'Factor Value Ontology Term[immunophenotype]', 'Factor Value[inferred cell type - ontology labels]', 'Factor Value Ontology Term[inferred cell type - ontology labels]', 'Factor Value[inferred cell type - authors labels]', 'Factor Value Ontology Term[inferred cell type - authors labels]'"
      ]
     },
     "execution_count": 3,
     "metadata": {},
     "output_type": "execute_result"
    }
   ],
   "source": [
    "# This establishes the directory that the data will be saved to\n",
    "sc._settings.ScanpyConfig.datasetdir = Path('../data/')\n",
    "adata = sc.datasets.ebi_expression_atlas(\n",
    "    accession='E-HCAD-10',\n",
    ")\n",
    "adata"
   ]
  }
 ],
 "metadata": {
  "kernelspec": {
   "display_name": "Python 3",
   "language": "python",
   "name": "python3"
  },
  "language_info": {
   "codemirror_mode": {
    "name": "ipython",
    "version": 3
   },
   "file_extension": ".py",
   "mimetype": "text/x-python",
   "name": "python",
   "nbconvert_exporter": "python",
   "pygments_lexer": "ipython3",
   "version": "3.10.13"
  }
 },
 "nbformat": 4,
 "nbformat_minor": 2
}
